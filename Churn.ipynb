{
 "cells": [
  {
   "cell_type": "markdown",
   "metadata": {},
   "source": [
    "# Churn model"
   ]
  },
  {
   "cell_type": "code",
   "execution_count": 54,
   "metadata": {},
   "outputs": [],
   "source": [
    "import numpy as np\n",
    "import pandas as pd"
   ]
  },
  {
   "cell_type": "code",
   "execution_count": 82,
   "metadata": {},
   "outputs": [
    {
     "data": {
      "text/html": [
       "<div>\n",
       "<style scoped>\n",
       "    .dataframe tbody tr th:only-of-type {\n",
       "        vertical-align: middle;\n",
       "    }\n",
       "\n",
       "    .dataframe tbody tr th {\n",
       "        vertical-align: top;\n",
       "    }\n",
       "\n",
       "    .dataframe thead th {\n",
       "        text-align: right;\n",
       "    }\n",
       "</style>\n",
       "<table border=\"1\" class=\"dataframe\">\n",
       "  <thead>\n",
       "    <tr style=\"text-align: right;\">\n",
       "      <th></th>\n",
       "      <th>Unnamed: 0</th>\n",
       "      <th>subid</th>\n",
       "      <th>package_type</th>\n",
       "      <th>num_weekly_services_utilized</th>\n",
       "      <th>preferred_genre</th>\n",
       "      <th>intended_use</th>\n",
       "      <th>weekly_consumption_hour</th>\n",
       "      <th>num_ideal_streaming_services</th>\n",
       "      <th>age</th>\n",
       "      <th>male_TF</th>\n",
       "      <th>...</th>\n",
       "      <th>num_trial_days</th>\n",
       "      <th>current_sub_TF</th>\n",
       "      <th>payment_period</th>\n",
       "      <th>last_payment</th>\n",
       "      <th>next_payment</th>\n",
       "      <th>cancel_date</th>\n",
       "      <th>trial_completed</th>\n",
       "      <th>churn</th>\n",
       "      <th>convert</th>\n",
       "      <th>Unnamed: 34</th>\n",
       "    </tr>\n",
       "  </thead>\n",
       "  <tbody>\n",
       "    <tr>\n",
       "      <th>0</th>\n",
       "      <td>162502</td>\n",
       "      <td>21724479</td>\n",
       "      <td>economy</td>\n",
       "      <td>0</td>\n",
       "      <td>comedy</td>\n",
       "      <td>access to exclusive content</td>\n",
       "      <td>27.997724</td>\n",
       "      <td>2</td>\n",
       "      <td>NaN</td>\n",
       "      <td>False</td>\n",
       "      <td>...</td>\n",
       "      <td>14</td>\n",
       "      <td>True</td>\n",
       "      <td>1</td>\n",
       "      <td>2020/2/7 21:44</td>\n",
       "      <td>2020/6/7 21:44</td>\n",
       "      <td>NaN</td>\n",
       "      <td>True</td>\n",
       "      <td>0</td>\n",
       "      <td>1</td>\n",
       "      <td>1.0</td>\n",
       "    </tr>\n",
       "    <tr>\n",
       "      <th>1</th>\n",
       "      <td>380374</td>\n",
       "      <td>23383224</td>\n",
       "      <td>base</td>\n",
       "      <td>0</td>\n",
       "      <td>comedy</td>\n",
       "      <td>access to exclusive content</td>\n",
       "      <td>22.951579</td>\n",
       "      <td>2</td>\n",
       "      <td>70.0</td>\n",
       "      <td>False</td>\n",
       "      <td>...</td>\n",
       "      <td>14</td>\n",
       "      <td>True</td>\n",
       "      <td>1</td>\n",
       "      <td>2020/3/15 15:44</td>\n",
       "      <td>2020/7/15 15:44</td>\n",
       "      <td>NaN</td>\n",
       "      <td>True</td>\n",
       "      <td>0</td>\n",
       "      <td>1</td>\n",
       "      <td>NaN</td>\n",
       "    </tr>\n",
       "    <tr>\n",
       "      <th>2</th>\n",
       "      <td>496617</td>\n",
       "      <td>26844789</td>\n",
       "      <td>enhanced</td>\n",
       "      <td>3</td>\n",
       "      <td>regional</td>\n",
       "      <td>replace OTT</td>\n",
       "      <td>36.001186</td>\n",
       "      <td>2</td>\n",
       "      <td>25.0</td>\n",
       "      <td>True</td>\n",
       "      <td>...</td>\n",
       "      <td>14</td>\n",
       "      <td>False</td>\n",
       "      <td>0</td>\n",
       "      <td>NaN</td>\n",
       "      <td>NaN</td>\n",
       "      <td>NaN</td>\n",
       "      <td>True</td>\n",
       "      <td>1</td>\n",
       "      <td>0</td>\n",
       "      <td>NaN</td>\n",
       "    </tr>\n",
       "    <tr>\n",
       "      <th>3</th>\n",
       "      <td>356799</td>\n",
       "      <td>29417030</td>\n",
       "      <td>base</td>\n",
       "      <td>0</td>\n",
       "      <td>drama</td>\n",
       "      <td>replace OTT</td>\n",
       "      <td>20.051667</td>\n",
       "      <td>2</td>\n",
       "      <td>30.0</td>\n",
       "      <td>False</td>\n",
       "      <td>...</td>\n",
       "      <td>14</td>\n",
       "      <td>False</td>\n",
       "      <td>0</td>\n",
       "      <td>NaN</td>\n",
       "      <td>NaN</td>\n",
       "      <td>NaN</td>\n",
       "      <td>True</td>\n",
       "      <td>1</td>\n",
       "      <td>0</td>\n",
       "      <td>NaN</td>\n",
       "    </tr>\n",
       "    <tr>\n",
       "      <th>4</th>\n",
       "      <td>681701</td>\n",
       "      <td>26723159</td>\n",
       "      <td>base</td>\n",
       "      <td>4</td>\n",
       "      <td>comedy</td>\n",
       "      <td>replace OTT</td>\n",
       "      <td>22.951579</td>\n",
       "      <td>3</td>\n",
       "      <td>28.0</td>\n",
       "      <td>False</td>\n",
       "      <td>...</td>\n",
       "      <td>14</td>\n",
       "      <td>True</td>\n",
       "      <td>2</td>\n",
       "      <td>2020/2/19 12:57</td>\n",
       "      <td>2020/6/19 12:57</td>\n",
       "      <td>NaN</td>\n",
       "      <td>True</td>\n",
       "      <td>0</td>\n",
       "      <td>1</td>\n",
       "      <td>NaN</td>\n",
       "    </tr>\n",
       "  </tbody>\n",
       "</table>\n",
       "<p>5 rows × 35 columns</p>\n",
       "</div>"
      ],
      "text/plain": [
       "   Unnamed: 0     subid package_type  num_weekly_services_utilized  \\\n",
       "0      162502  21724479      economy                             0   \n",
       "1      380374  23383224         base                             0   \n",
       "2      496617  26844789     enhanced                             3   \n",
       "3      356799  29417030         base                             0   \n",
       "4      681701  26723159         base                             4   \n",
       "\n",
       "  preferred_genre                 intended_use  weekly_consumption_hour  \\\n",
       "0          comedy  access to exclusive content                27.997724   \n",
       "1          comedy  access to exclusive content                22.951579   \n",
       "2        regional                  replace OTT                36.001186   \n",
       "3           drama                  replace OTT                20.051667   \n",
       "4          comedy                  replace OTT                22.951579   \n",
       "\n",
       "   num_ideal_streaming_services   age male_TF  ... num_trial_days  \\\n",
       "0                             2   NaN   False  ...             14   \n",
       "1                             2  70.0   False  ...             14   \n",
       "2                             2  25.0    True  ...             14   \n",
       "3                             2  30.0   False  ...             14   \n",
       "4                             3  28.0   False  ...             14   \n",
       "\n",
       "  current_sub_TF payment_period     last_payment     next_payment cancel_date  \\\n",
       "0           True              1   2020/2/7 21:44   2020/6/7 21:44         NaN   \n",
       "1           True              1  2020/3/15 15:44  2020/7/15 15:44         NaN   \n",
       "2          False              0              NaN              NaN         NaN   \n",
       "3          False              0              NaN              NaN         NaN   \n",
       "4           True              2  2020/2/19 12:57  2020/6/19 12:57         NaN   \n",
       "\n",
       "   trial_completed  churn convert Unnamed: 34  \n",
       "0             True      0       1         1.0  \n",
       "1             True      0       1         NaN  \n",
       "2             True      1       0         NaN  \n",
       "3             True      1       0         NaN  \n",
       "4             True      0       1         NaN  \n",
       "\n",
       "[5 rows x 35 columns]"
      ]
     },
     "execution_count": 82,
     "metadata": {},
     "output_type": "execute_result"
    }
   ],
   "source": [
    "churn_df = pd.read_csv('subscribers_update.csv')\n",
    "churn_df.head()"
   ]
  },
  {
   "cell_type": "code",
   "execution_count": 83,
   "metadata": {},
   "outputs": [],
   "source": [
    "churn_df = churn_df.dropna(subset=['preferred_genre', 'age','male_TF','package_type','intended_use','weekly_consumption_hour','attribution_survey'])"
   ]
  },
  {
   "cell_type": "code",
   "execution_count": 84,
   "metadata": {},
   "outputs": [],
   "source": [
    "churn_df['num_ideal_streaming_services'].fillna(churn_df['num_ideal_streaming_services'].mean(),inplace=True)"
   ]
  },
  {
   "cell_type": "code",
   "execution_count": 85,
   "metadata": {},
   "outputs": [],
   "source": [
    "churn_df['num_weekly_services_utilized'].fillna(0,inplace=True)"
   ]
  },
  {
   "cell_type": "code",
   "execution_count": 86,
   "metadata": {},
   "outputs": [
    {
     "data": {
      "text/plain": [
       "Unnamed: 0                           0\n",
       "subid                                0\n",
       "package_type                         0\n",
       "num_weekly_services_utilized         0\n",
       "preferred_genre                      0\n",
       "intended_use                         0\n",
       "weekly_consumption_hour              0\n",
       "num_ideal_streaming_services         0\n",
       "age                                  0\n",
       "male_TF                              0\n",
       "country                              0\n",
       "attribution_technical                0\n",
       "attribution_survey                   0\n",
       "op_sys                           12843\n",
       "months_per_bill_period               0\n",
       "plan_type                            0\n",
       "monthly_price                        0\n",
       "discount_price                       0\n",
       "account_creation_date                0\n",
       "account_creation_date1               0\n",
       "trial_end_date                       0\n",
       "initial_credit_card_declined         0\n",
       "join_fee                             0\n",
       "language                             0\n",
       "payment_type                    133482\n",
       "num_trial_days                       0\n",
       "current_sub_TF                       0\n",
       "payment_period                       0\n",
       "last_payment                     82732\n",
       "next_payment                     84782\n",
       "cancel_date                     156954\n",
       "trial_completed                      0\n",
       "churn                                0\n",
       "convert                              0\n",
       "Unnamed: 34                     188901\n",
       "dtype: int64"
      ]
     },
     "execution_count": 86,
     "metadata": {},
     "output_type": "execute_result"
    }
   ],
   "source": [
    "churn_df.isnull().sum(axis=0)"
   ]
  },
  {
   "cell_type": "code",
   "execution_count": 115,
   "metadata": {},
   "outputs": [],
   "source": [
    "import numpy as np\n",
    "import pandas as pd\n",
    "import matplotlib.pyplot as plt\n",
    "import math\n",
    "from __future__ import division\n",
    "from scipy.stats import pearsonr\n",
    "from sklearn import linear_model\n",
    "from sklearn import model_selection as cv\n",
    "from sklearn.model_selection import train_test_split\n",
    "from sklearn.metrics import explained_variance_score"
   ]
  },
  {
   "cell_type": "code",
   "execution_count": 231,
   "metadata": {},
   "outputs": [],
   "source": [
    "data = churn_df.drop(['Unnamed: 0','subid','country','account_creation_date','account_creation_date1','trial_end_date','initial_credit_card_declined','monthly_price','months_per_bill_period',\n",
    "                          'language','payment_type','num_trial_days','current_sub_TF','last_payment','next_payment','cancel_date','convert',\"Unnamed: 34\"],axis=1)"
   ]
  },
  {
   "cell_type": "code",
   "execution_count": 232,
   "metadata": {},
   "outputs": [
    {
     "data": {
      "text/html": [
       "<div>\n",
       "<style scoped>\n",
       "    .dataframe tbody tr th:only-of-type {\n",
       "        vertical-align: middle;\n",
       "    }\n",
       "\n",
       "    .dataframe tbody tr th {\n",
       "        vertical-align: top;\n",
       "    }\n",
       "\n",
       "    .dataframe thead th {\n",
       "        text-align: right;\n",
       "    }\n",
       "</style>\n",
       "<table border=\"1\" class=\"dataframe\">\n",
       "  <thead>\n",
       "    <tr style=\"text-align: right;\">\n",
       "      <th></th>\n",
       "      <th>package_type</th>\n",
       "      <th>num_weekly_services_utilized</th>\n",
       "      <th>preferred_genre</th>\n",
       "      <th>intended_use</th>\n",
       "      <th>weekly_consumption_hour</th>\n",
       "      <th>num_ideal_streaming_services</th>\n",
       "      <th>age</th>\n",
       "      <th>male_TF</th>\n",
       "      <th>attribution_technical</th>\n",
       "      <th>attribution_survey</th>\n",
       "      <th>op_sys</th>\n",
       "      <th>plan_type</th>\n",
       "      <th>discount_price</th>\n",
       "      <th>join_fee</th>\n",
       "      <th>payment_period</th>\n",
       "      <th>trial_completed</th>\n",
       "      <th>churn</th>\n",
       "    </tr>\n",
       "  </thead>\n",
       "  <tbody>\n",
       "    <tr>\n",
       "      <th>1</th>\n",
       "      <td>base</td>\n",
       "      <td>0</td>\n",
       "      <td>comedy</td>\n",
       "      <td>access to exclusive content</td>\n",
       "      <td>22.951579</td>\n",
       "      <td>2</td>\n",
       "      <td>70.0</td>\n",
       "      <td>False</td>\n",
       "      <td>facebook</td>\n",
       "      <td>facebook</td>\n",
       "      <td>NaN</td>\n",
       "      <td>base_uae_14_day_trial</td>\n",
       "      <td>4.5141</td>\n",
       "      <td>0.3303</td>\n",
       "      <td>1</td>\n",
       "      <td>True</td>\n",
       "      <td>0</td>\n",
       "    </tr>\n",
       "    <tr>\n",
       "      <th>2</th>\n",
       "      <td>enhanced</td>\n",
       "      <td>3</td>\n",
       "      <td>regional</td>\n",
       "      <td>replace OTT</td>\n",
       "      <td>36.001186</td>\n",
       "      <td>2</td>\n",
       "      <td>25.0</td>\n",
       "      <td>True</td>\n",
       "      <td>organic</td>\n",
       "      <td>facebook</td>\n",
       "      <td>iOS</td>\n",
       "      <td>base_uae_14_day_trial</td>\n",
       "      <td>4.5141</td>\n",
       "      <td>0.1101</td>\n",
       "      <td>0</td>\n",
       "      <td>True</td>\n",
       "      <td>1</td>\n",
       "    </tr>\n",
       "    <tr>\n",
       "      <th>3</th>\n",
       "      <td>base</td>\n",
       "      <td>0</td>\n",
       "      <td>drama</td>\n",
       "      <td>replace OTT</td>\n",
       "      <td>20.051667</td>\n",
       "      <td>2</td>\n",
       "      <td>30.0</td>\n",
       "      <td>False</td>\n",
       "      <td>search</td>\n",
       "      <td>tv</td>\n",
       "      <td>Android</td>\n",
       "      <td>base_uae_14_day_trial</td>\n",
       "      <td>4.5141</td>\n",
       "      <td>0.0367</td>\n",
       "      <td>0</td>\n",
       "      <td>True</td>\n",
       "      <td>1</td>\n",
       "    </tr>\n",
       "    <tr>\n",
       "      <th>4</th>\n",
       "      <td>base</td>\n",
       "      <td>4</td>\n",
       "      <td>comedy</td>\n",
       "      <td>replace OTT</td>\n",
       "      <td>22.951579</td>\n",
       "      <td>3</td>\n",
       "      <td>28.0</td>\n",
       "      <td>False</td>\n",
       "      <td>discovery</td>\n",
       "      <td>youtube</td>\n",
       "      <td>iOS</td>\n",
       "      <td>base_uae_14_day_trial</td>\n",
       "      <td>4.5141</td>\n",
       "      <td>0.0367</td>\n",
       "      <td>2</td>\n",
       "      <td>True</td>\n",
       "      <td>0</td>\n",
       "    </tr>\n",
       "    <tr>\n",
       "      <th>5</th>\n",
       "      <td>base</td>\n",
       "      <td>0</td>\n",
       "      <td>comedy</td>\n",
       "      <td>access to exclusive content</td>\n",
       "      <td>20.051667</td>\n",
       "      <td>2</td>\n",
       "      <td>70.0</td>\n",
       "      <td>False</td>\n",
       "      <td>bing</td>\n",
       "      <td>tv</td>\n",
       "      <td>NaN</td>\n",
       "      <td>base_uae_14_day_trial</td>\n",
       "      <td>4.5141</td>\n",
       "      <td>0.3303</td>\n",
       "      <td>1</td>\n",
       "      <td>True</td>\n",
       "      <td>0</td>\n",
       "    </tr>\n",
       "  </tbody>\n",
       "</table>\n",
       "</div>"
      ],
      "text/plain": [
       "  package_type  num_weekly_services_utilized preferred_genre  \\\n",
       "1         base                             0          comedy   \n",
       "2     enhanced                             3        regional   \n",
       "3         base                             0           drama   \n",
       "4         base                             4          comedy   \n",
       "5         base                             0          comedy   \n",
       "\n",
       "                  intended_use  weekly_consumption_hour  \\\n",
       "1  access to exclusive content                22.951579   \n",
       "2                  replace OTT                36.001186   \n",
       "3                  replace OTT                20.051667   \n",
       "4                  replace OTT                22.951579   \n",
       "5  access to exclusive content                20.051667   \n",
       "\n",
       "   num_ideal_streaming_services   age male_TF attribution_technical  \\\n",
       "1                             2  70.0   False              facebook   \n",
       "2                             2  25.0    True               organic   \n",
       "3                             2  30.0   False                search   \n",
       "4                             3  28.0   False             discovery   \n",
       "5                             2  70.0   False                  bing   \n",
       "\n",
       "  attribution_survey   op_sys              plan_type  discount_price  \\\n",
       "1           facebook      NaN  base_uae_14_day_trial          4.5141   \n",
       "2           facebook      iOS  base_uae_14_day_trial          4.5141   \n",
       "3                 tv  Android  base_uae_14_day_trial          4.5141   \n",
       "4            youtube      iOS  base_uae_14_day_trial          4.5141   \n",
       "5                 tv      NaN  base_uae_14_day_trial          4.5141   \n",
       "\n",
       "   join_fee  payment_period  trial_completed  churn  \n",
       "1    0.3303               1             True      0  \n",
       "2    0.1101               0             True      1  \n",
       "3    0.0367               0             True      1  \n",
       "4    0.0367               2             True      0  \n",
       "5    0.3303               1             True      0  "
      ]
     },
     "execution_count": 232,
     "metadata": {},
     "output_type": "execute_result"
    }
   ],
   "source": [
    "data.head()"
   ]
  },
  {
   "cell_type": "code",
   "execution_count": 154,
   "metadata": {},
   "outputs": [
    {
     "data": {
      "text/html": [
       "<div>\n",
       "<style scoped>\n",
       "    .dataframe tbody tr th:only-of-type {\n",
       "        vertical-align: middle;\n",
       "    }\n",
       "\n",
       "    .dataframe tbody tr th {\n",
       "        vertical-align: top;\n",
       "    }\n",
       "\n",
       "    .dataframe thead th {\n",
       "        text-align: right;\n",
       "    }\n",
       "</style>\n",
       "<table border=\"1\" class=\"dataframe\">\n",
       "  <thead>\n",
       "    <tr style=\"text-align: right;\">\n",
       "      <th></th>\n",
       "      <th>num_weekly_services_utilized</th>\n",
       "      <th>weekly_consumption_hour</th>\n",
       "      <th>num_ideal_streaming_services</th>\n",
       "      <th>age</th>\n",
       "      <th>discount_price</th>\n",
       "      <th>join_fee</th>\n",
       "      <th>payment_period</th>\n",
       "      <th>trial_completed</th>\n",
       "      <th>churn</th>\n",
       "    </tr>\n",
       "  </thead>\n",
       "  <tbody>\n",
       "    <tr>\n",
       "      <th>num_weekly_services_utilized</th>\n",
       "      <td>1.000000</td>\n",
       "      <td>0.113840</td>\n",
       "      <td>0.353427</td>\n",
       "      <td>-0.040666</td>\n",
       "      <td>-0.005825</td>\n",
       "      <td>0.005499</td>\n",
       "      <td>0.126323</td>\n",
       "      <td>0.051875</td>\n",
       "      <td>-0.107855</td>\n",
       "    </tr>\n",
       "    <tr>\n",
       "      <th>weekly_consumption_hour</th>\n",
       "      <td>0.113840</td>\n",
       "      <td>1.000000</td>\n",
       "      <td>0.056828</td>\n",
       "      <td>-0.044880</td>\n",
       "      <td>-0.005216</td>\n",
       "      <td>0.035191</td>\n",
       "      <td>0.097166</td>\n",
       "      <td>0.054229</td>\n",
       "      <td>-0.100500</td>\n",
       "    </tr>\n",
       "    <tr>\n",
       "      <th>num_ideal_streaming_services</th>\n",
       "      <td>0.353427</td>\n",
       "      <td>0.056828</td>\n",
       "      <td>1.000000</td>\n",
       "      <td>-0.023025</td>\n",
       "      <td>-0.004738</td>\n",
       "      <td>0.004804</td>\n",
       "      <td>0.129651</td>\n",
       "      <td>0.053449</td>\n",
       "      <td>-0.113732</td>\n",
       "    </tr>\n",
       "    <tr>\n",
       "      <th>age</th>\n",
       "      <td>-0.040666</td>\n",
       "      <td>-0.044880</td>\n",
       "      <td>-0.023025</td>\n",
       "      <td>1.000000</td>\n",
       "      <td>-0.000195</td>\n",
       "      <td>0.154796</td>\n",
       "      <td>-0.221261</td>\n",
       "      <td>-0.109647</td>\n",
       "      <td>0.222253</td>\n",
       "    </tr>\n",
       "    <tr>\n",
       "      <th>discount_price</th>\n",
       "      <td>-0.005825</td>\n",
       "      <td>-0.005216</td>\n",
       "      <td>-0.004738</td>\n",
       "      <td>-0.000195</td>\n",
       "      <td>1.000000</td>\n",
       "      <td>-0.016578</td>\n",
       "      <td>0.022365</td>\n",
       "      <td>0.003146</td>\n",
       "      <td>-0.003925</td>\n",
       "    </tr>\n",
       "    <tr>\n",
       "      <th>join_fee</th>\n",
       "      <td>0.005499</td>\n",
       "      <td>0.035191</td>\n",
       "      <td>0.004804</td>\n",
       "      <td>0.154796</td>\n",
       "      <td>-0.016578</td>\n",
       "      <td>1.000000</td>\n",
       "      <td>-0.124279</td>\n",
       "      <td>0.013236</td>\n",
       "      <td>-0.044229</td>\n",
       "    </tr>\n",
       "    <tr>\n",
       "      <th>payment_period</th>\n",
       "      <td>0.126323</td>\n",
       "      <td>0.097166</td>\n",
       "      <td>0.129651</td>\n",
       "      <td>-0.221261</td>\n",
       "      <td>0.022365</td>\n",
       "      <td>-0.124279</td>\n",
       "      <td>1.000000</td>\n",
       "      <td>0.368469</td>\n",
       "      <td>-0.825707</td>\n",
       "    </tr>\n",
       "    <tr>\n",
       "      <th>trial_completed</th>\n",
       "      <td>0.051875</td>\n",
       "      <td>0.054229</td>\n",
       "      <td>0.053449</td>\n",
       "      <td>-0.109647</td>\n",
       "      <td>0.003146</td>\n",
       "      <td>0.013236</td>\n",
       "      <td>0.368469</td>\n",
       "      <td>1.000000</td>\n",
       "      <td>-0.395109</td>\n",
       "    </tr>\n",
       "    <tr>\n",
       "      <th>churn</th>\n",
       "      <td>-0.107855</td>\n",
       "      <td>-0.100500</td>\n",
       "      <td>-0.113732</td>\n",
       "      <td>0.222253</td>\n",
       "      <td>-0.003925</td>\n",
       "      <td>-0.044229</td>\n",
       "      <td>-0.825707</td>\n",
       "      <td>-0.395109</td>\n",
       "      <td>1.000000</td>\n",
       "    </tr>\n",
       "  </tbody>\n",
       "</table>\n",
       "</div>"
      ],
      "text/plain": [
       "                              num_weekly_services_utilized  \\\n",
       "num_weekly_services_utilized                      1.000000   \n",
       "weekly_consumption_hour                           0.113840   \n",
       "num_ideal_streaming_services                      0.353427   \n",
       "age                                              -0.040666   \n",
       "discount_price                                   -0.005825   \n",
       "join_fee                                          0.005499   \n",
       "payment_period                                    0.126323   \n",
       "trial_completed                                   0.051875   \n",
       "churn                                            -0.107855   \n",
       "\n",
       "                              weekly_consumption_hour  \\\n",
       "num_weekly_services_utilized                 0.113840   \n",
       "weekly_consumption_hour                      1.000000   \n",
       "num_ideal_streaming_services                 0.056828   \n",
       "age                                         -0.044880   \n",
       "discount_price                              -0.005216   \n",
       "join_fee                                     0.035191   \n",
       "payment_period                               0.097166   \n",
       "trial_completed                              0.054229   \n",
       "churn                                       -0.100500   \n",
       "\n",
       "                              num_ideal_streaming_services       age  \\\n",
       "num_weekly_services_utilized                      0.353427 -0.040666   \n",
       "weekly_consumption_hour                           0.056828 -0.044880   \n",
       "num_ideal_streaming_services                      1.000000 -0.023025   \n",
       "age                                              -0.023025  1.000000   \n",
       "discount_price                                   -0.004738 -0.000195   \n",
       "join_fee                                          0.004804  0.154796   \n",
       "payment_period                                    0.129651 -0.221261   \n",
       "trial_completed                                   0.053449 -0.109647   \n",
       "churn                                            -0.113732  0.222253   \n",
       "\n",
       "                              discount_price  join_fee  payment_period  \\\n",
       "num_weekly_services_utilized       -0.005825  0.005499        0.126323   \n",
       "weekly_consumption_hour            -0.005216  0.035191        0.097166   \n",
       "num_ideal_streaming_services       -0.004738  0.004804        0.129651   \n",
       "age                                -0.000195  0.154796       -0.221261   \n",
       "discount_price                      1.000000 -0.016578        0.022365   \n",
       "join_fee                           -0.016578  1.000000       -0.124279   \n",
       "payment_period                      0.022365 -0.124279        1.000000   \n",
       "trial_completed                     0.003146  0.013236        0.368469   \n",
       "churn                              -0.003925 -0.044229       -0.825707   \n",
       "\n",
       "                              trial_completed     churn  \n",
       "num_weekly_services_utilized         0.051875 -0.107855  \n",
       "weekly_consumption_hour              0.054229 -0.100500  \n",
       "num_ideal_streaming_services         0.053449 -0.113732  \n",
       "age                                 -0.109647  0.222253  \n",
       "discount_price                       0.003146 -0.003925  \n",
       "join_fee                             0.013236 -0.044229  \n",
       "payment_period                       0.368469 -0.825707  \n",
       "trial_completed                      1.000000 -0.395109  \n",
       "churn                               -0.395109  1.000000  "
      ]
     },
     "execution_count": 154,
     "metadata": {},
     "output_type": "execute_result"
    }
   ],
   "source": [
    "cor = data.corr()\n",
    "cor"
   ]
  },
  {
   "cell_type": "code",
   "execution_count": 159,
   "metadata": {},
   "outputs": [
    {
     "data": {
      "text/plain": [
       "1         0\n",
       "2         1\n",
       "3         1\n",
       "4         0\n",
       "5         0\n",
       "         ..\n",
       "226670    0\n",
       "226671    0\n",
       "226672    0\n",
       "226673    0\n",
       "226675    1\n",
       "Name: churn, Length: 188901, dtype: int64"
      ]
     },
     "execution_count": 159,
     "metadata": {},
     "output_type": "execute_result"
    }
   ],
   "source": [
    "cor_target = abs(data[\"churn\"])\n",
    "cor_target"
   ]
  },
  {
   "cell_type": "code",
   "execution_count": 160,
   "metadata": {},
   "outputs": [
    {
     "data": {
      "image/png": "[encoded data removed]",
      "text/plain": [
       "<Figure size 864x720 with 2 Axes>"
      ]
     },
     "metadata": {
      "needs_background": "light"
     },
     "output_type": "display_data"
    }
   ],
   "source": [
    "plt.figure(figsize=(12,10))\n",
    "sns.heatmap(cor)\n",
    "plt.show()"
   ]
  },
  {
   "cell_type": "code",
   "execution_count": 162,
   "metadata": {},
   "outputs": [
    {
     "data": {
      "text/plain": [
       "2         1\n",
       "3         1\n",
       "9         1\n",
       "10        1\n",
       "12        1\n",
       "         ..\n",
       "226658    1\n",
       "226661    1\n",
       "226662    1\n",
       "226666    1\n",
       "226675    1\n",
       "Name: churn, Length: 90988, dtype: int64"
      ]
     },
     "execution_count": 162,
     "metadata": {},
     "output_type": "execute_result"
    }
   ],
   "source": [
    "#Selecting highly correlated features\n",
    "relevant_features = cor_target[cor_target>0.5]\n",
    "relevant_features"
   ]
  },
  {
   "cell_type": "code",
   "execution_count": 163,
   "metadata": {},
   "outputs": [],
   "source": [
    "data = pd.get_dummies(data,columns = ['package_type','preferred_genre','intended_use','male_TF','plan_type','attribution_technical','attribution_survey','op_sys'\n",
    "                                           ,'plan_type','discount_price','trial_completed'])"
   ]
  },
  {
   "cell_type": "code",
   "execution_count": 188,
   "metadata": {},
   "outputs": [],
   "source": [
    "import xgboost\n",
    "import seaborn as sns\n",
    "from sklearn import metrics\n",
    "from sklearn.linear_model import LogisticRegression as lr\n",
    "from sklearn.tree import DecisionTreeClassifier\n",
    "from sklearn.metrics import f1_score,precision_score,recall_score,roc_auc_score,accuracy_score,roc_curve"
   ]
  },
  {
   "cell_type": "markdown",
   "metadata": {},
   "source": [
    "# Logistic Regression"
   ]
  },
  {
   "cell_type": "code",
   "execution_count": 164,
   "metadata": {},
   "outputs": [],
   "source": [
    "feature_x = [tag for tag in data.columns if tag not in ['churn','payment_period']]"
   ]
  },
  {
   "cell_type": "code",
   "execution_count": 165,
   "metadata": {},
   "outputs": [],
   "source": [
    "X = data[feature_x].values\n",
    "y = data['churn']\n",
    "\n",
    "# training and testing\n",
    "X_train,X_test,y_train,y_test = train_test_split(X,y,test_size=0.3,random_state=0)"
   ]
  },
  {
   "cell_type": "code",
   "execution_count": 209,
   "metadata": {},
   "outputs": [
    {
     "name": "stderr",
     "output_type": "stream",
     "text": [
      "D:\\Anaconda\\lib\\site-packages\\sklearn\\linear_model\\_logistic.py:762: ConvergenceWarning: lbfgs failed to converge (status=1):\n",
      "STOP: TOTAL NO. of ITERATIONS REACHED LIMIT.\n",
      "\n",
      "Increase the number of iterations (max_iter) or scale the data as shown in:\n",
      "    https://scikit-learn.org/stable/modules/preprocessing.html\n",
      "Please also refer to the documentation for alternative solver options:\n",
      "    https://scikit-learn.org/stable/modules/linear_model.html#logistic-regression\n",
      "  n_iter_i = _check_optimize_result(\n"
     ]
    }
   ],
   "source": [
    "lr = LogisticRegression(random_state=2020,tol=1e-6) \n",
    "lr.fit(X_train, y_train)\n",
    "lr_y_proba=lr.predict_proba(X_test)\n",
    "lr_y_pre=lr.predict(X_test)"
   ]
  },
  {
   "cell_type": "code",
   "execution_count": 235,
   "metadata": {},
   "outputs": [
    {
     "data": {
      "text/plain": [
       "array([0.28186399, 0.77052539, 0.95110205, ..., 0.07261609, 0.09206526,\n",
       "       0.99951264])"
      ]
     },
     "execution_count": 235,
     "metadata": {},
     "output_type": "execute_result"
    }
   ],
   "source": [
    "Churn = lr.predict_proba(X)[:,1]\n",
    "Churn"
   ]
  },
  {
   "cell_type": "code",
   "execution_count": 236,
   "metadata": {},
   "outputs": [],
   "source": [
    "churn = churn_df.drop(['Unnamed: 0','subid','country','account_creation_date','account_creation_date1','trial_end_date','initial_credit_card_declined','monthly_price','months_per_bill_period',\n",
    "                          'language','payment_type','num_trial_days','current_sub_TF','last_payment','next_payment','cancel_date','convert',\"Unnamed: 34\"],axis=1)"
   ]
  },
  {
   "cell_type": "code",
   "execution_count": 237,
   "metadata": {},
   "outputs": [],
   "source": [
    "churn['churn'] = Churn"
   ]
  },
  {
   "cell_type": "code",
   "execution_count": 238,
   "metadata": {},
   "outputs": [],
   "source": [
    "churn.to_csv('churn.csv')"
   ]
  },
  {
   "cell_type": "code",
   "execution_count": 210,
   "metadata": {},
   "outputs": [
    {
     "name": "stdout",
     "output_type": "stream",
     "text": [
      "lr_accuracy_score: 0.849782,lr_preci_score: 0.860915,lr_recall_score: 0.821406,lr_f1_score: 0.840697,lr_auc: 0.922932\n"
     ]
    }
   ],
   "source": [
    "lr_score = lr.score(X_test, y_test)\n",
    "lr_accuracy_score=accuracy_score(y_test,lr_y_pre)\n",
    "lr_preci_score=precision_score(y_test,lr_y_pre)\n",
    "lr_recall_score=recall_score(y_test,lr_y_pre)\n",
    "lr_f1_score=f1_score(y_test,lr_y_pre)\n",
    "lr_auc=roc_auc_score(y_test,lr_y_proba[:,1])\n",
    "print('lr_accuracy_score: %f,lr_preci_score: %f,lr_recall_score: %f,lr_f1_score: %f,lr_auc: %f'\n",
    "      %(lr_accuracy_score,lr_preci_score,lr_recall_score,lr_f1_score,lr_auc))"
   ]
  },
  {
   "cell_type": "code",
   "execution_count": 224,
   "metadata": {},
   "outputs": [
    {
     "data": {
      "text/plain": [
       "array([0.31450028, 0.30202626, 0.02680251, ..., 0.92201904, 0.13306432,\n",
       "       0.01636821])"
      ]
     },
     "execution_count": 224,
     "metadata": {},
     "output_type": "execute_result"
    }
   ],
   "source": [
    "lr_y_proba[:,1]"
   ]
  },
  {
   "cell_type": "code",
   "execution_count": 211,
   "metadata": {},
   "outputs": [
    {
     "data": {
      "image/png": "[encoded data removed]",
      "text/plain": [
       "<Figure size 432x288 with 1 Axes>"
      ]
     },
     "metadata": {
      "needs_background": "light"
     },
     "output_type": "display_data"
    }
   ],
   "source": [
    "lr_fpr,lr_tpr,lr_threasholds=roc_curve(y_test,lr_y_proba[:,1]) # 计算ROC的值,lr_threasholds为阈值\n",
    "plt.title(\"roc_curve of %s(AUC=%.4f)\" %('logist',lr_auc))\n",
    "plt.xlabel('False Positive Rate')\n",
    "plt.ylabel('True Positive Rate')\n",
    "plt.plot([0, 1], [0, 1],'r--')\n",
    "plt.plot(lr_fpr,lr_tpr)\n",
    "plt.show()"
   ]
  },
  {
   "cell_type": "markdown",
   "metadata": {},
   "source": [
    "# Decision Tree"
   ]
  },
  {
   "cell_type": "code",
   "execution_count": 212,
   "metadata": {},
   "outputs": [],
   "source": [
    "tr = DecisionTreeClassifier(random_state=2020)  # 决策树模型\n",
    "tr.fit(X_train, y_train)\n",
    "tr_y_pre=tr.predict(X_test)\n",
    "tr_y_proba=tr.predict_proba(X_test)"
   ]
  },
  {
   "cell_type": "code",
   "execution_count": 213,
   "metadata": {},
   "outputs": [
    {
     "name": "stdout",
     "output_type": "stream",
     "text": [
      "tr_accuracy_score: 0.809162,tr_preci_score: 0.802850,tr_recall_score: 0.801294,tr_f1_score: 0.802072,tr_auc: 0.810911\n"
     ]
    }
   ],
   "source": [
    "tr_score = tr.score(X_test, y_test)\n",
    "tr_accuracy_score=accuracy_score(y_test,tr_y_pre)\n",
    "tr_preci_score=precision_score(y_test,tr_y_pre)\n",
    "tr_recall_score=recall_score(y_test,tr_y_pre)\n",
    "tr_f1_score=f1_score(y_test,tr_y_pre)\n",
    "tr_auc=roc_auc_score(y_test,tr_y_proba[:,1])\n",
    "print('tr_accuracy_score: %f,tr_preci_score: %f,tr_recall_score: %f,tr_f1_score: %f,tr_auc: %f'\n",
    "       %(tr_accuracy_score,tr_preci_score,tr_recall_score,tr_f1_score,tr_auc))"
   ]
  },
  {
   "cell_type": "code",
   "execution_count": 214,
   "metadata": {},
   "outputs": [
    {
     "data": {
      "image/png": "[encoded data removed]",
      "text/plain": [
       "<Figure size 432x288 with 1 Axes>"
      ]
     },
     "metadata": {
      "needs_background": "light"
     },
     "output_type": "display_data"
    }
   ],
   "source": [
    "tr_fpr,tr_tpr,tr_threasholds=roc_curve(y_test,tr_y_proba[:,1]) # 计算ROC的值,lr_threasholds为阈值\n",
    "plt.title(\"roc_curve of %s(AUC=%.4f)\" %('decisiontree',tr_auc))\n",
    "plt.xlabel('False Positive Rate')\n",
    "plt.ylabel('True Positive Rate')\n",
    "plt.plot(tr_fpr,tr_tpr)\n",
    "plt.show()"
   ]
  },
  {
   "cell_type": "markdown",
   "metadata": {},
   "source": [
    "# XGBoost"
   ]
  },
  {
   "cell_type": "code",
   "execution_count": 179,
   "metadata": {},
   "outputs": [],
   "source": [
    "# Let's try XGboost algorithm to see if we can get better results\n",
    "xgb = xgboost.XGBRegressor(n_estimators=100, learning_rate=0.08, gamma=0, subsample=0.75,\n",
    "                           colsample_bytree=1, max_depth=7)"
   ]
  },
  {
   "cell_type": "code",
   "execution_count": 169,
   "metadata": {},
   "outputs": [
    {
     "data": {
      "text/plain": [
       "XGBRegressor(base_score=0.5, booster='gbtree', colsample_bylevel=1,\n",
       "             colsample_bynode=1, colsample_bytree=1, gamma=0, gpu_id=-1,\n",
       "             importance_type='gain', interaction_constraints='',\n",
       "             learning_rate=0.08, max_delta_step=0, max_depth=7,\n",
       "             min_child_weight=1, missing=nan, monotone_constraints='()',\n",
       "             n_estimators=100, n_jobs=8, num_parallel_tree=1, random_state=0,\n",
       "             reg_alpha=0, reg_lambda=1, scale_pos_weight=1, subsample=0.75,\n",
       "             tree_method='exact', validate_parameters=1, verbosity=None)"
      ]
     },
     "execution_count": 169,
     "metadata": {},
     "output_type": "execute_result"
    }
   ],
   "source": [
    "traindf, testdf = train_test_split(X_train, test_size = 0.3)\n",
    "xgb.fit(X_train,y_train)"
   ]
  },
  {
   "cell_type": "code",
   "execution_count": 170,
   "metadata": {},
   "outputs": [
    {
     "name": "stdout",
     "output_type": "stream",
     "text": [
      "0.353865226584014\n"
     ]
    }
   ],
   "source": [
    "predictions = xgb.predict(X_test)\n",
    "print(explained_variance_score(predictions,y_test))"
   ]
  }
 ],
 "metadata": {
  "kernelspec": {
   "display_name": "Python 3",
   "language": "python",
   "name": "python3"
  },
  "language_info": {
   "codemirror_mode": {
    "name": "ipython",
    "version": 3
   },
   "file_extension": ".py",
   "mimetype": "text/x-python",
   "name": "python",
   "nbconvert_exporter": "python",
   "pygments_lexer": "ipython3",
   "version": "3.8.3"
  }
 },
 "nbformat": 4,
 "nbformat_minor": 4
}
