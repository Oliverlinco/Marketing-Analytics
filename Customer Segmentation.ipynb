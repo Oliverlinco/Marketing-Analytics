{
 "cells": [
  {
   "cell_type": "code",
   "execution_count": 1,
   "metadata": {},
   "outputs": [],
   "source": [
    "import numpy as np\n",
    "import pandas as pd\n",
    "import matplotlib.pyplot as plt\n",
    "from mpl_toolkits.mplot3d import Axes3D  # plot 3-d figures\n",
    "import matplotlib.cm as cm"
   ]
  },
  {
   "cell_type": "code",
   "execution_count": 2,
   "metadata": {},
   "outputs": [
    {
     "data": {
      "text/html": [
       "<div>\n",
       "<style scoped>\n",
       "    .dataframe tbody tr th:only-of-type {\n",
       "        vertical-align: middle;\n",
       "    }\n",
       "\n",
       "    .dataframe tbody tr th {\n",
       "        vertical-align: top;\n",
       "    }\n",
       "\n",
       "    .dataframe thead th {\n",
       "        text-align: right;\n",
       "    }\n",
       "</style>\n",
       "<table border=\"1\" class=\"dataframe\">\n",
       "  <thead>\n",
       "    <tr style=\"text-align: right;\">\n",
       "      <th></th>\n",
       "      <th>Unnamed: 0</th>\n",
       "      <th>subid</th>\n",
       "      <th>package_type</th>\n",
       "      <th>num_weekly_services_utilized</th>\n",
       "      <th>preferred_genre</th>\n",
       "      <th>intended_use</th>\n",
       "      <th>weekly_consumption_hour</th>\n",
       "      <th>num_ideal_streaming_services</th>\n",
       "      <th>age</th>\n",
       "      <th>male_TF</th>\n",
       "      <th>...</th>\n",
       "      <th>num_trial_days</th>\n",
       "      <th>current_sub_TF</th>\n",
       "      <th>payment_period</th>\n",
       "      <th>last_payment</th>\n",
       "      <th>next_payment</th>\n",
       "      <th>cancel_date</th>\n",
       "      <th>trial_completed</th>\n",
       "      <th>churn</th>\n",
       "      <th>convert</th>\n",
       "      <th>Unnamed: 34</th>\n",
       "    </tr>\n",
       "  </thead>\n",
       "  <tbody>\n",
       "    <tr>\n",
       "      <th>0</th>\n",
       "      <td>162502</td>\n",
       "      <td>21724479</td>\n",
       "      <td>economy</td>\n",
       "      <td>0</td>\n",
       "      <td>comedy</td>\n",
       "      <td>access to exclusive content</td>\n",
       "      <td>27.997724</td>\n",
       "      <td>2</td>\n",
       "      <td>NaN</td>\n",
       "      <td>False</td>\n",
       "      <td>...</td>\n",
       "      <td>14</td>\n",
       "      <td>True</td>\n",
       "      <td>1</td>\n",
       "      <td>2020/2/7 21:44</td>\n",
       "      <td>2020/6/7 21:44</td>\n",
       "      <td>NaN</td>\n",
       "      <td>True</td>\n",
       "      <td>0</td>\n",
       "      <td>1</td>\n",
       "      <td>1.0</td>\n",
       "    </tr>\n",
       "    <tr>\n",
       "      <th>1</th>\n",
       "      <td>380374</td>\n",
       "      <td>23383224</td>\n",
       "      <td>base</td>\n",
       "      <td>0</td>\n",
       "      <td>comedy</td>\n",
       "      <td>access to exclusive content</td>\n",
       "      <td>22.951579</td>\n",
       "      <td>2</td>\n",
       "      <td>70.0</td>\n",
       "      <td>False</td>\n",
       "      <td>...</td>\n",
       "      <td>14</td>\n",
       "      <td>True</td>\n",
       "      <td>1</td>\n",
       "      <td>2020/3/15 15:44</td>\n",
       "      <td>2020/7/15 15:44</td>\n",
       "      <td>NaN</td>\n",
       "      <td>True</td>\n",
       "      <td>0</td>\n",
       "      <td>1</td>\n",
       "      <td>NaN</td>\n",
       "    </tr>\n",
       "    <tr>\n",
       "      <th>2</th>\n",
       "      <td>496617</td>\n",
       "      <td>26844789</td>\n",
       "      <td>enhanced</td>\n",
       "      <td>3</td>\n",
       "      <td>regional</td>\n",
       "      <td>replace OTT</td>\n",
       "      <td>36.001186</td>\n",
       "      <td>2</td>\n",
       "      <td>25.0</td>\n",
       "      <td>True</td>\n",
       "      <td>...</td>\n",
       "      <td>14</td>\n",
       "      <td>False</td>\n",
       "      <td>0</td>\n",
       "      <td>NaN</td>\n",
       "      <td>NaN</td>\n",
       "      <td>NaN</td>\n",
       "      <td>True</td>\n",
       "      <td>1</td>\n",
       "      <td>0</td>\n",
       "      <td>NaN</td>\n",
       "    </tr>\n",
       "    <tr>\n",
       "      <th>3</th>\n",
       "      <td>356799</td>\n",
       "      <td>29417030</td>\n",
       "      <td>base</td>\n",
       "      <td>0</td>\n",
       "      <td>drama</td>\n",
       "      <td>replace OTT</td>\n",
       "      <td>20.051667</td>\n",
       "      <td>2</td>\n",
       "      <td>30.0</td>\n",
       "      <td>False</td>\n",
       "      <td>...</td>\n",
       "      <td>14</td>\n",
       "      <td>False</td>\n",
       "      <td>0</td>\n",
       "      <td>NaN</td>\n",
       "      <td>NaN</td>\n",
       "      <td>NaN</td>\n",
       "      <td>True</td>\n",
       "      <td>1</td>\n",
       "      <td>0</td>\n",
       "      <td>NaN</td>\n",
       "    </tr>\n",
       "    <tr>\n",
       "      <th>4</th>\n",
       "      <td>681701</td>\n",
       "      <td>26723159</td>\n",
       "      <td>base</td>\n",
       "      <td>4</td>\n",
       "      <td>comedy</td>\n",
       "      <td>replace OTT</td>\n",
       "      <td>22.951579</td>\n",
       "      <td>3</td>\n",
       "      <td>28.0</td>\n",
       "      <td>False</td>\n",
       "      <td>...</td>\n",
       "      <td>14</td>\n",
       "      <td>True</td>\n",
       "      <td>2</td>\n",
       "      <td>2020/2/19 12:57</td>\n",
       "      <td>2020/6/19 12:57</td>\n",
       "      <td>NaN</td>\n",
       "      <td>True</td>\n",
       "      <td>0</td>\n",
       "      <td>1</td>\n",
       "      <td>NaN</td>\n",
       "    </tr>\n",
       "  </tbody>\n",
       "</table>\n",
       "<p>5 rows × 35 columns</p>\n",
       "</div>"
      ],
      "text/plain": [
       "   Unnamed: 0     subid package_type  num_weekly_services_utilized  \\\n",
       "0      162502  21724479      economy                             0   \n",
       "1      380374  23383224         base                             0   \n",
       "2      496617  26844789     enhanced                             3   \n",
       "3      356799  29417030         base                             0   \n",
       "4      681701  26723159         base                             4   \n",
       "\n",
       "  preferred_genre                 intended_use  weekly_consumption_hour  \\\n",
       "0          comedy  access to exclusive content                27.997724   \n",
       "1          comedy  access to exclusive content                22.951579   \n",
       "2        regional                  replace OTT                36.001186   \n",
       "3           drama                  replace OTT                20.051667   \n",
       "4          comedy                  replace OTT                22.951579   \n",
       "\n",
       "   num_ideal_streaming_services   age male_TF  ... num_trial_days  \\\n",
       "0                             2   NaN   False  ...             14   \n",
       "1                             2  70.0   False  ...             14   \n",
       "2                             2  25.0    True  ...             14   \n",
       "3                             2  30.0   False  ...             14   \n",
       "4                             3  28.0   False  ...             14   \n",
       "\n",
       "  current_sub_TF payment_period     last_payment     next_payment cancel_date  \\\n",
       "0           True              1   2020/2/7 21:44   2020/6/7 21:44         NaN   \n",
       "1           True              1  2020/3/15 15:44  2020/7/15 15:44         NaN   \n",
       "2          False              0              NaN              NaN         NaN   \n",
       "3          False              0              NaN              NaN         NaN   \n",
       "4           True              2  2020/2/19 12:57  2020/6/19 12:57         NaN   \n",
       "\n",
       "   trial_completed  churn convert Unnamed: 34  \n",
       "0             True      0       1         1.0  \n",
       "1             True      0       1         NaN  \n",
       "2             True      1       0         NaN  \n",
       "3             True      1       0         NaN  \n",
       "4             True      0       1         NaN  \n",
       "\n",
       "[5 rows x 35 columns]"
      ]
     },
     "execution_count": 2,
     "metadata": {},
     "output_type": "execute_result"
    }
   ],
   "source": [
    "churn_df = pd.read_csv('subscribers_update.csv')\n",
    "churn_df.head()"
   ]
  },
  {
   "cell_type": "code",
   "execution_count": 3,
   "metadata": {},
   "outputs": [],
   "source": [
    "churn_df = churn_df.dropna(subset=['preferred_genre', 'age','male_TF','package_type','intended_use','weekly_consumption_hour','attribution_survey'])"
   ]
  },
  {
   "cell_type": "code",
   "execution_count": 4,
   "metadata": {},
   "outputs": [],
   "source": [
    "churn_df['num_ideal_streaming_services'].fillna(churn_df['num_ideal_streaming_services'].mean(),inplace=True)"
   ]
  },
  {
   "cell_type": "code",
   "execution_count": 5,
   "metadata": {},
   "outputs": [],
   "source": [
    "churn_df['num_weekly_services_utilized'].fillna(0,inplace=True)"
   ]
  },
  {
   "cell_type": "code",
   "execution_count": 6,
   "metadata": {},
   "outputs": [
    {
     "data": {
      "text/plain": [
       "Unnamed: 0                           0\n",
       "subid                                0\n",
       "package_type                         0\n",
       "num_weekly_services_utilized         0\n",
       "preferred_genre                      0\n",
       "intended_use                         0\n",
       "weekly_consumption_hour              0\n",
       "num_ideal_streaming_services         0\n",
       "age                                  0\n",
       "male_TF                              0\n",
       "country                              0\n",
       "attribution_technical                0\n",
       "attribution_survey                   0\n",
       "op_sys                           12843\n",
       "months_per_bill_period               0\n",
       "plan_type                            0\n",
       "monthly_price                        0\n",
       "discount_price                       0\n",
       "account_creation_date                0\n",
       "account_creation_date1               0\n",
       "trial_end_date                       0\n",
       "initial_credit_card_declined         0\n",
       "join_fee                             0\n",
       "language                             0\n",
       "payment_type                    133482\n",
       "num_trial_days                       0\n",
       "current_sub_TF                       0\n",
       "payment_period                       0\n",
       "last_payment                     82732\n",
       "next_payment                     84782\n",
       "cancel_date                     156954\n",
       "trial_completed                      0\n",
       "churn                                0\n",
       "convert                              0\n",
       "Unnamed: 34                     188901\n",
       "dtype: int64"
      ]
     },
     "execution_count": 6,
     "metadata": {},
     "output_type": "execute_result"
    }
   ],
   "source": [
    "churn_df.isnull().sum(axis=0)"
   ]
  },
  {
   "cell_type": "code",
   "execution_count": 7,
   "metadata": {},
   "outputs": [],
   "source": [
    "data = churn_df.drop(['Unnamed: 0','subid','country','account_creation_date','account_creation_date1','trial_end_date','initial_credit_card_declined','monthly_price','months_per_bill_period',\n",
    "                          'language','payment_type','num_trial_days','current_sub_TF','last_payment','next_payment','cancel_date','convert',\"Unnamed: 34\"],axis=1)"
   ]
  },
  {
   "cell_type": "code",
   "execution_count": 8,
   "metadata": {},
   "outputs": [],
   "source": [
    "data = pd.get_dummies(data,columns = ['package_type','preferred_genre','intended_use','male_TF','plan_type','attribution_technical','attribution_survey','op_sys'\n",
    "                                           ,'plan_type','trial_completed'])"
   ]
  },
  {
   "cell_type": "code",
   "execution_count": 22,
   "metadata": {},
   "outputs": [
    {
     "name": "stdout",
     "output_type": "stream",
     "text": [
      "feature:\n",
      " ['num_weekly_services_utilized', 'weekly_consumption_hour', 'num_ideal_streaming_services', 'age', 'discount_price', 'join_fee', 'package_type_base', 'package_type_economy', 'package_type_enhanced', 'package_type_unknown', 'preferred_genre_comedy', 'preferred_genre_drama', 'preferred_genre_international', 'preferred_genre_other', 'preferred_genre_regional', 'preferred_genre_unknown', 'intended_use_access to exclusive content', 'intended_use_education', 'intended_use_expand international access', 'intended_use_expand regional access', 'intended_use_other', 'intended_use_replace OTT', 'intended_use_supplement OTT', 'intended_use_unknown', 'male_TF_False', 'male_TF_True', 'plan_type_base_eur_14_day_trial', 'plan_type_base_uae_14_day_trial', 'plan_type_high_aud_14_day_trial', 'plan_type_high_sar_14_day_trial', 'plan_type_high_uae_14_day_trial', 'plan_type_low_gbp_14_day_trial', 'attribution_technical_affiliate', 'attribution_technical_appstore', 'attribution_technical_bing', 'attribution_technical_bing_organic', 'attribution_technical_brand sem intent bing', 'attribution_technical_brand sem intent google', 'attribution_technical_content_greatist', 'attribution_technical_criteo', 'attribution_technical_direct_mail', 'attribution_technical_discovery', 'attribution_technical_display', 'attribution_technical_email', 'attribution_technical_email_blast', 'attribution_technical_facebook', 'attribution_technical_facebook_organic', 'attribution_technical_google_organic', 'attribution_technical_influencer', 'attribution_technical_internal', 'attribution_technical_organic', 'attribution_technical_other', 'attribution_technical_ott', 'attribution_technical_pinterest', 'attribution_technical_pinterest_organic', 'attribution_technical_playstore', 'attribution_technical_podcast', 'attribution_technical_quora', 'attribution_technical_referral', 'attribution_technical_samsung', 'attribution_technical_search', 'attribution_technical_tv', 'attribution_technical_twitter', 'attribution_technical_vod', 'attribution_technical_youtube', 'attribution_survey_affiliate', 'attribution_survey_amfm_radio', 'attribution_survey_direct_mail', 'attribution_survey_facebook', 'attribution_survey_facebook_organic', 'attribution_survey_other', 'attribution_survey_ott', 'attribution_survey_pinterest', 'attribution_survey_podcast', 'attribution_survey_public_radio', 'attribution_survey_referral', 'attribution_survey_search', 'attribution_survey_sirius xm', 'attribution_survey_social_organic', 'attribution_survey_tv', 'attribution_survey_youtube', 'op_sys_Android', 'op_sys_iOS', 'plan_type_base_eur_14_day_trial', 'plan_type_base_uae_14_day_trial', 'plan_type_high_aud_14_day_trial', 'plan_type_high_sar_14_day_trial', 'plan_type_high_uae_14_day_trial', 'plan_type_low_gbp_14_day_trial', 'trial_completed_False', 'trial_completed_True']\n",
      "feature dim: (188901, 103)\n",
      "----------\n",
      "target:\n",
      " ['churn']\n",
      "target dim: (188901,)\n"
     ]
    }
   ],
   "source": [
    "feature_x = [tag for tag in data.columns if tag not in ['churn','payment_period']]\n",
    "print('feature:\\n', feature_x)\n",
    "X = data[feature_x].values\n",
    "num_samples, num_features = X.shape\n",
    "print('feature dim:', X.shape)\n",
    "print('----------')\n",
    "feature_y = ['churn']\n",
    "print('target:\\n', feature_y)\n",
    "y = data[feature_y].values\n",
    "y = y[:, 0]\n",
    "print('target dim:', y.shape)"
   ]
  },
  {
   "cell_type": "code",
   "execution_count": 23,
   "metadata": {},
   "outputs": [],
   "source": [
    "from sklearn.preprocessing import MinMaxScaler\n",
    "minmaxscaler = MinMaxScaler()\n",
    "X_scaled = minmaxscaler.fit_transform(X)  # apply min_max scale\n",
    "X_recon = minmaxscaler.inverse_transform(X_scaled)  # apply the inverse of min_max scale"
   ]
  },
  {
   "cell_type": "code",
   "execution_count": 11,
   "metadata": {},
   "outputs": [
    {
     "name": "stdout",
     "output_type": "stream",
     "text": [
      "{2: 769850.184836418, 3: 706023.4282105744, 4: 665449.6271549271, 5: 638156.0860514579, 6: 619213.6973846218, 7: 601835.1862213656, 8: 590724.2526103576, 9: 575912.9525680627, 10: 566098.8004074211, 11: 555770.3314525425, 12: 543872.0641353225, 13: 537415.9923086817, 14: 528884.2270398214, 15: 521668.2457300187, 16: 514661.55055590265, 17: 508076.7355688251, 18: 502435.6379172404, 19: 496703.43354258547}\n"
     ]
    }
   ],
   "source": [
    "from sklearn.cluster import KMeans\n",
    "inertias = {}\n",
    "for k in range(2, 20):\n",
    "    kmeans = KMeans(n_clusters=k, random_state=2020)\n",
    "    kmeans.fit(X_scaled) \n",
    "    inertias[k] = kmeans.inertia_\n",
    "print(inertias) "
   ]
  },
  {
   "cell_type": "code",
   "execution_count": 12,
   "metadata": {},
   "outputs": [
    {
     "data": {
      "image/png": "[encoded data removed]",
      "text/plain": [
       "<Figure size 432x288 with 1 Axes>"
      ]
     },
     "metadata": {
      "needs_background": "light"
     },
     "output_type": "display_data"
    }
   ],
   "source": [
    "ax = plt.subplot()\n",
    "ax.plot(list(inertias.keys()), list(inertias.values()), '-*')\n",
    "ax.set_xticks(np.arange(1, 20))\n",
    "ax.grid()\n",
    "plt.show()"
   ]
  },
  {
   "cell_type": "code",
   "execution_count": 32,
   "metadata": {},
   "outputs": [],
   "source": [
    "SSE = []\n",
    "for k in range(1,20):\n",
    "    kmeans = KMeans(n_clusters=k)\n",
    "    kmeans.fit(X_scaled)\n",
    "    SSE.append(kmeans.inertia_)"
   ]
  },
  {
   "cell_type": "code",
   "execution_count": 38,
   "metadata": {},
   "outputs": [
    {
     "data": {
      "image/png": "[encoded data removed]",
      "text/plain": [
       "<Figure size 432x288 with 1 Axes>"
      ]
     },
     "metadata": {
      "needs_background": "light"
     },
     "output_type": "display_data"
    }
   ],
   "source": [
    "X = range(1,20)\n",
    "plt.xlabel('k')\n",
    "plt.ylabel('SSE')\n",
    "plt.plot(X,SSE,'o-')\n",
    "plt.tick_params(labelsize=5)\n",
    "labels = ax.get_xticklabels() + ax.get_yticklabels()\n",
    "[label.set_fontname('Times New Roman') for label in labels]\n",
    "plt.show()"
   ]
  },
  {
   "cell_type": "code",
   "execution_count": 25,
   "metadata": {},
   "outputs": [],
   "source": [
    "k = 4\n",
    "kmeans = KMeans(n_clusters=k, random_state=2020)\n",
    "y_pred = kmeans.fit_predict(X)"
   ]
  },
  {
   "cell_type": "code",
   "execution_count": null,
   "metadata": {},
   "outputs": [],
   "source": [
    "churn_df.head()"
   ]
  },
  {
   "cell_type": "code",
   "execution_count": null,
   "metadata": {},
   "outputs": [],
   "source": [
    "churn_df['cluster'] = y_pred\n",
    "churn_df.to_csv('customers.csv')"
   ]
  },
  {
   "cell_type": "code",
   "execution_count": 20,
   "metadata": {},
   "outputs": [],
   "source": [
    "def visualize_cluster_result(x, dim1, dim2, y_pred, k):\n",
    "    # select two feature dims: dim1, dim2, visualize the clusters\n",
    "    assert dim1 in range(x.shape[1])\n",
    "    assert dim2 in range(x.shape[1])\n",
    "    ax = plt.subplot()\n",
    "    # use a for loop to plot each cluster (with different colors)\n",
    "    for i in range(k):\n",
    "        ax.scatter(x[y_pred == i, dim1], x[y_pred ==  i, dim2], label='cluster: %d' % i)\n",
    "    plt.title('Visualization of clustering of dim %d and dim %d' % (dim1, dim2))\n",
    "    ax.set_xlabel('dim: %d' % dim1)\n",
    "    ax.set_ylabel('dim: %d' % dim2)\n",
    "    ax.legend()\n",
    "    plt.show()"
   ]
  },
  {
   "cell_type": "code",
   "execution_count": 26,
   "metadata": {},
   "outputs": [
    {
     "data": {
      "image/png": "[encoded data removed]",
      "text/plain": [
       "<Figure size 432x288 with 1 Axes>"
      ]
     },
     "metadata": {
      "needs_background": "light"
     },
     "output_type": "display_data"
    }
   ],
   "source": [
    "visualize_cluster_result(X_scaled, 1, 3, y_pred, k)"
   ]
  }
 ],
 "metadata": {
  "kernelspec": {
   "display_name": "Python 3",
   "language": "python",
   "name": "python3"
  },
  "language_info": {
   "codemirror_mode": {
    "name": "ipython",
    "version": 3
   },
   "file_extension": ".py",
   "mimetype": "text/x-python",
   "name": "python",
   "nbconvert_exporter": "python",
   "pygments_lexer": "ipython3",
   "version": "3.8.3"
  }
 },
 "nbformat": 4,
 "nbformat_minor": 4
}
